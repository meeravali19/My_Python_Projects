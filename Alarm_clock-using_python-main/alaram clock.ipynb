{
 "cells": [
  {
   "cell_type": "code",
   "execution_count": null,
   "id": "55577cd8",
   "metadata": {},
   "outputs": [
    {
     "name": "stdout",
     "output_type": "stream",
     "text": [
      "enter hour:10\n",
      "enter minutes:04\n",
      "enter meridiem:am\n",
      "playing song...\n"
     ]
    }
   ],
   "source": [
    "import datetime\n",
    "from playsound import playsound\n",
    "hour=int(input(\"enter hour:\"))\n",
    "min=int(input(\"enter minutes:\"))\n",
    "meridiem=input(\"enter meridiem:\")\n",
    "\n",
    "if meridiem==\"pm\":\n",
    "    hour+=12\n",
    "    \n",
    "while True:\n",
    "    if hour==datetime.datetime.now().hour and min==datetime.datetime.now().minute:\n",
    "        print(\"playing song...\")\n",
    "        playsound(\"D:\\sampledata\\[iSongs.info] 01 - Bhoom Bhaddhal.mp3\")\n",
    "        break\n",
    "\n"
   ]
  },
  {
   "cell_type": "code",
   "execution_count": null,
   "id": "0ac2d5a2",
   "metadata": {},
   "outputs": [],
   "source": []
  },
  {
   "cell_type": "code",
   "execution_count": null,
   "id": "0adf334d",
   "metadata": {},
   "outputs": [],
   "source": []
  }
 ],
 "metadata": {
  "kernelspec": {
   "display_name": "Python 3 (ipykernel)",
   "language": "python",
   "name": "python3"
  },
  "language_info": {
   "codemirror_mode": {
    "name": "ipython",
    "version": 3
   },
   "file_extension": ".py",
   "mimetype": "text/x-python",
   "name": "python",
   "nbconvert_exporter": "python",
   "pygments_lexer": "ipython3",
   "version": "3.10.0"
  }
 },
 "nbformat": 4,
 "nbformat_minor": 5
}
