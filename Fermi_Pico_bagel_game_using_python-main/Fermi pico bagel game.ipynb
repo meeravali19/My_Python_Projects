{
 "cells": [
  {
   "cell_type": "code",
   "execution_count": 1,
   "id": "5a8de57f",
   "metadata": {},
   "outputs": [
    {
     "name": "stdout",
     "output_type": "stream",
     "text": [
      "\n",
      "Guess the number: 5678\n",
      " Fermi Pico\n",
      "\n",
      "Guess the number: 5478\n",
      " Fermi Fermi Pico\n",
      "\n",
      "Guess the number: 5488\n",
      "Duplicate number\n",
      "\n",
      "Guess the number: 5489\n",
      " Fermi  Fermi  Fermi  Fermi \n",
      "\n",
      "You won !!\n"
     ]
    }
   ],
   "source": [
    "original_number = '5489'  #You can write any number\n",
    "\n",
    "while True :\n",
    "    output = []\n",
    "    guess_number = input('\\nGuess the number: ')\n",
    "    \n",
    "    if len((guess_number)) != len(original_number):\n",
    "        print(f'Enter {len(original_number)} digit number')\n",
    "        continue\n",
    "        \n",
    "    if len(guess_number)  != len(set(guess_number)):\n",
    "        print('Duplicate number')\n",
    "        continue\n",
    "    \n",
    "    if (int(guess_number) - int(original_number)) == 0 :\n",
    "        print(' Fermi '*len(original_number))\n",
    "        print('\\nYou won !!')\n",
    "        break\n",
    "    \n",
    "    for i in range(len(original_number)): \n",
    "        for j in range(len(guess_number)):     \n",
    "            if original_number[i] == guess_number[j]: \n",
    "                if i == j:               \n",
    "                    output.append('Fermi')\n",
    "                else:\n",
    "                    output.append('Pico')\n",
    "                    \n",
    "    output_string = ''\n",
    "    for item in output :\n",
    "        output_string = output_string + ' ' + item \n",
    "        \n",
    "    \n",
    "    if len(output) == 0:           \n",
    "        print(' Bagels')\n",
    "    else:\n",
    "        print(output_string)\n",
    "        "
   ]
  },
  {
   "cell_type": "code",
   "execution_count": null,
   "id": "0e4575c7",
   "metadata": {},
   "outputs": [],
   "source": []
  }
 ],
 "metadata": {
  "kernelspec": {
   "display_name": "Python 3 (ipykernel)",
   "language": "python",
   "name": "python3"
  },
  "language_info": {
   "codemirror_mode": {
    "name": "ipython",
    "version": 3
   },
   "file_extension": ".py",
   "mimetype": "text/x-python",
   "name": "python",
   "nbconvert_exporter": "python",
   "pygments_lexer": "ipython3",
   "version": "3.10.0"
  }
 },
 "nbformat": 4,
 "nbformat_minor": 5
}
